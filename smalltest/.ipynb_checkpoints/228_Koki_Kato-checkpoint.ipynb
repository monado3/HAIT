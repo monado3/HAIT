{
 "cells": [
  {
   "cell_type": "markdown",
   "metadata": {
    "collapsed": true
   },
   "source": [
    "# 第４回小テスト(全3問)\n",
    "## 第１問  SVM"
   ]
  },
  {
   "cell_type": "markdown",
   "metadata": {},
   "source": [
    "sklearn.datasetsに収録されているBreast Cancer Wisconsin (Diagnostic) Data Setという乳がんの検査のために集められたデータセットをSVMで分析した上でindex=100の予測ラベルと正解ラベルを出力しなさい。SVMを使う際にはパラメータのチューニングも行うこと。"
   ]
  },
  {
   "cell_type": "code",
   "execution_count": 2,
   "metadata": {},
   "outputs": [],
   "source": [
    "# 必要なライブラリの読み込み\n",
    "import numpy as np\n",
    "import pandas as pd\n",
    "\n",
    "# brest_cancerデータセットの読み込み\n",
    "from sklearn.datasets import load_breast_cancer\n",
    "bc = load_breast_cancer()\n",
    "\n",
    "# データをDataFrameに変換\n",
    "df_data = pd.DataFrame(bc.data, columns=bc.feature_names)\n",
    "df_target = pd.DataFrame(bc.target, columns=['class'])\n",
    "df = pd.concat([df_data, df_target], axis=1)\n",
    "\n",
    "# 説明変数と目的変数は変えなくて良い\n",
    "X = df.loc[:, ['worst perimeter', 'mean concave points']].values\n",
    "y = df.loc[:, ['class']].values\n",
    "\n",
    "# scikit-learnの仕様に合わせて､一列のベクトルに変換\n",
    "y = y.reshape(-1)"
   ]
  },
  {
   "cell_type": "markdown",
   "metadata": {},
   "source": [
    "### 1)\n",
    "データを標準化してください。"
   ]
  },
  {
   "cell_type": "code",
   "execution_count": 6,
   "metadata": {},
   "outputs": [],
   "source": [
    "from sklearn.preprocessing import StandardScaler\n",
    "scaler = StandardScaler()\n",
    "scaler.fit(X)\n",
    "X_std = scaler.transform(X)"
   ]
  },
  {
   "cell_type": "markdown",
   "metadata": {},
   "source": [
    "### 2)\n",
    "データセットを分割してください。"
   ]
  },
  {
   "cell_type": "code",
   "execution_count": 7,
   "metadata": {},
   "outputs": [],
   "source": [
    "from sklearn.model_selection import train_test_split\n",
    "X_std_train, X_std_test, y_train, y_test = train_test_split(X_std, y, test_size=0.3, random_state=0)"
   ]
  },
  {
   "cell_type": "markdown",
   "metadata": {},
   "source": [
    "### 3)\n",
    "グリッドサーチを利用してパラメータをチューニングし、最適なパラメータを表示してください。  \n",
    "ただし層化交差検証法を用いること。  \n",
    "またその時のtrainデータをtestデータの正答率を表示してください。  \n",
    "ただしパラメータの候補としては以下のものを使うこと。  \n",
    "C　　0.1, 0.3, 0.5, 1.0  \n",
    "gamma    0.01, 0.03, 0.05, 0.07"
   ]
  },
  {
   "cell_type": "code",
   "execution_count": 9,
   "metadata": {},
   "outputs": [],
   "source": [
    "# インスタンスの生成\n",
    "# パラメータのチューニング\n",
    "param_grid = {'C': [0.1, 0.3, 0.5, 1.0],\n",
    "              'gamma': [0.01, 0.03, 0.05, 0.07]}\n",
    "from sklearn.model_selection import StratifiedKFold\n",
    "kf_4 = StratifiedKFold(n_splits=4, shuffle=True, random_state=0)\n",
    "from sklearn.model_selection import GridSearchCV\n",
    "from sklearn.svm import SVC\n",
    "gs_svc = GridSearchCV(SVC(), param_grid, cv=kf_4)"
   ]
  },
  {
   "cell_type": "code",
   "execution_count": 10,
   "metadata": {},
   "outputs": [
    {
     "data": {
      "text/plain": [
       "{'C': 0.3, 'gamma': 0.05}"
      ]
     },
     "execution_count": 10,
     "metadata": {},
     "output_type": "execute_result"
    }
   ],
   "source": [
    "#求められた最適なパラメータの表示\n",
    "gs_svc.fit(X_std_train,y_train)\n",
    "gs_svc.best_params_"
   ]
  },
  {
   "cell_type": "code",
   "execution_count": 12,
   "metadata": {
    "scrolled": true
   },
   "outputs": [
    {
     "name": "stdout",
     "output_type": "stream",
     "text": [
      "train:0.9372\n",
      "test :0.9298\n"
     ]
    }
   ],
   "source": [
    "# trainデータとtestデータの正答率を出力\n",
    "print(f'train:{gs_svc.best_score_:.4f}')\n",
    "print(f'test :{gs_svc.score(X_std_test,y_test):.4f}')"
   ]
  },
  {
   "cell_type": "markdown",
   "metadata": {},
   "source": [
    "### 3)\n",
    "indexが100のサンプルの正解と予測のクラスラベルを出力してください。"
   ]
  },
  {
   "cell_type": "code",
   "execution_count": 25,
   "metadata": {},
   "outputs": [
    {
     "name": "stdout",
     "output_type": "stream",
     "text": [
      "answer :1\n",
      "predict:1\n"
     ]
    }
   ],
   "source": [
    "print(f'answer :{y_test[100]}')\n",
    "print(f'predict:{gs_svc.predict(X_std[100].reshape(1,-1))[0]}')"
   ]
  },
  {
   "cell_type": "markdown",
   "metadata": {},
   "source": [
    "## 第２問  パーセプトロン・ロジスティック回帰"
   ]
  },
  {
   "cell_type": "markdown",
   "metadata": {},
   "source": [
    "パーセプトロンとロジスティック回帰のそれぞれどのようにして分類を行うか、またいかにして学習するか説明しなさい。\n",
    "またそれぞれ線形分離が不可能な問題に対して使用可能かどうか述べなさい。"
   ]
  },
  {
   "cell_type": "code",
   "execution_count": 17,
   "metadata": {},
   "outputs": [
    {
     "data": {
      "text/plain": [
       "'\\nパーセプトロン\\nニューロンが電気信号によって情報の処理･伝達の機能を､数値計算に置き換える。\\n予測と正解のクラスラベルで単純に差をとるという形で定義された誤差関数を\\n勾配降下法で最小化してパラメータ調整する。\\n\\n線形分離が不可能な問題に対して使用不可能である。\\n'"
      ]
     },
     "execution_count": 17,
     "metadata": {},
     "output_type": "execute_result"
    }
   ],
   "source": [
    "\"\"\"\n",
    "パーセプトロン\n",
    "ニューロンが電気信号によって情報の処理･伝達の機能を､数値計算に置き換える。\n",
    "予測と正解のクラスラベルで単純に差をとるという形で定義された誤差関数を\n",
    "勾配降下法で最小化してパラメータ調整する。\n",
    "\n",
    "線形分離が不可能な問題に対して使用不可能である。\n",
    "\"\"\""
   ]
  },
  {
   "cell_type": "code",
   "execution_count": null,
   "metadata": {
    "collapsed": true
   },
   "outputs": [],
   "source": [
    "\"\"\"\n",
    "ロジスティック回帰\n",
    "実数全体の値をとる入力を､0〜1の値に変換する関数であるロジスティック関数を使って、\n",
    "入力に線形入力をとって､出力の数値を確率とみなすことで分類する。\n",
    "学習は尤度関数を最大化する。\n",
    "\n",
    "線形分離が不可能な問題に対して使用不可能である。\n",
    "\"\"\""
   ]
  },
  {
   "cell_type": "markdown",
   "metadata": {},
   "source": [
    "## 第３問  欠損値処理"
   ]
  },
  {
   "cell_type": "markdown",
   "metadata": {},
   "source": [
    "pandasのDataFrameを利用して､以下のサンプルデータに対して欠損値処理やエンコーディングを行いなさい。"
   ]
  },
  {
   "cell_type": "code",
   "execution_count": 13,
   "metadata": {},
   "outputs": [],
   "source": [
    "# サンプルとなるデータセットの作成\n",
    "import numpy as np\n",
    "from numpy import nan \n",
    "import pandas as pd"
   ]
  },
  {
   "cell_type": "code",
   "execution_count": 14,
   "metadata": {},
   "outputs": [
    {
     "data": {
      "text/html": [
       "<div>\n",
       "<style scoped>\n",
       "    .dataframe tbody tr th:only-of-type {\n",
       "        vertical-align: middle;\n",
       "    }\n",
       "\n",
       "    .dataframe tbody tr th {\n",
       "        vertical-align: top;\n",
       "    }\n",
       "\n",
       "    .dataframe thead th {\n",
       "        text-align: right;\n",
       "    }\n",
       "</style>\n",
       "<table border=\"1\" class=\"dataframe\">\n",
       "  <thead>\n",
       "    <tr style=\"text-align: right;\">\n",
       "      <th></th>\n",
       "      <th>DATE</th>\n",
       "      <th>NECK</th>\n",
       "      <th>BODY</th>\n",
       "      <th>SIZE</th>\n",
       "      <th>COLOR</th>\n",
       "      <th>class</th>\n",
       "    </tr>\n",
       "  </thead>\n",
       "  <tbody>\n",
       "    <tr>\n",
       "      <th>0</th>\n",
       "      <td>20170801</td>\n",
       "      <td>41.0</td>\n",
       "      <td>84.0</td>\n",
       "      <td>S</td>\n",
       "      <td>BL</td>\n",
       "      <td>A</td>\n",
       "    </tr>\n",
       "    <tr>\n",
       "      <th>1</th>\n",
       "      <td>20170801</td>\n",
       "      <td>NaN</td>\n",
       "      <td>92.0</td>\n",
       "      <td>XL</td>\n",
       "      <td>RD</td>\n",
       "      <td>C</td>\n",
       "    </tr>\n",
       "    <tr>\n",
       "      <th>2</th>\n",
       "      <td>20170802</td>\n",
       "      <td>38.0</td>\n",
       "      <td>69.0</td>\n",
       "      <td>S</td>\n",
       "      <td>Y</td>\n",
       "      <td>B</td>\n",
       "    </tr>\n",
       "    <tr>\n",
       "      <th>3</th>\n",
       "      <td>20170802</td>\n",
       "      <td>46.0</td>\n",
       "      <td>90.0</td>\n",
       "      <td>XL</td>\n",
       "      <td>GR</td>\n",
       "      <td>B</td>\n",
       "    </tr>\n",
       "    <tr>\n",
       "      <th>4</th>\n",
       "      <td>20170803</td>\n",
       "      <td>NaN</td>\n",
       "      <td>NaN</td>\n",
       "      <td>M</td>\n",
       "      <td>GR</td>\n",
       "      <td>C</td>\n",
       "    </tr>\n",
       "    <tr>\n",
       "      <th>5</th>\n",
       "      <td>20170803</td>\n",
       "      <td>49.0</td>\n",
       "      <td>64.0</td>\n",
       "      <td>M</td>\n",
       "      <td>RD</td>\n",
       "      <td>A</td>\n",
       "    </tr>\n",
       "    <tr>\n",
       "      <th>6</th>\n",
       "      <td>20170803</td>\n",
       "      <td>NaN</td>\n",
       "      <td>NaN</td>\n",
       "      <td>M</td>\n",
       "      <td>BL</td>\n",
       "      <td>A</td>\n",
       "    </tr>\n",
       "    <tr>\n",
       "      <th>7</th>\n",
       "      <td>20170805</td>\n",
       "      <td>NaN</td>\n",
       "      <td>74.0</td>\n",
       "      <td>M</td>\n",
       "      <td>Y</td>\n",
       "      <td>A</td>\n",
       "    </tr>\n",
       "    <tr>\n",
       "      <th>8</th>\n",
       "      <td>20170805</td>\n",
       "      <td>NaN</td>\n",
       "      <td>NaN</td>\n",
       "      <td>M</td>\n",
       "      <td>BL</td>\n",
       "      <td>C</td>\n",
       "    </tr>\n",
       "    <tr>\n",
       "      <th>9</th>\n",
       "      <td>20170805</td>\n",
       "      <td>42.0</td>\n",
       "      <td>86.0</td>\n",
       "      <td>XL</td>\n",
       "      <td>GR</td>\n",
       "      <td>C</td>\n",
       "    </tr>\n",
       "  </tbody>\n",
       "</table>\n",
       "</div>"
      ],
      "text/plain": [
       "       DATE  NECK  BODY SIZE COLOR class\n",
       "0  20170801  41.0  84.0    S    BL     A\n",
       "1  20170801   NaN  92.0   XL    RD     C\n",
       "2  20170802  38.0  69.0    S     Y     B\n",
       "3  20170802  46.0  90.0   XL    GR     B\n",
       "4  20170803   NaN   NaN    M    GR     C\n",
       "5  20170803  49.0  64.0    M    RD     A\n",
       "6  20170803   NaN   NaN    M    BL     A\n",
       "7  20170805   NaN  74.0    M     Y     A\n",
       "8  20170805   NaN   NaN    M    BL     C\n",
       "9  20170805  42.0  86.0   XL    GR     C"
      ]
     },
     "execution_count": 14,
     "metadata": {},
     "output_type": "execute_result"
    }
   ],
   "source": [
    "# 商品の購買履歴データのサンプルを生成\n",
    "df = pd.DataFrame({'DATE':  [20170801, 20170801, 20170802, 20170802, 20170803, 20170803, 20170803, 20170805, 20170805, 20170805],\n",
    "                   'NECK':  [41, nan, 38, 46, nan, 49, nan, nan, nan, 42],\n",
    "                   'BODY':  [84, 92, 69, 90, nan, 64, nan, 74, nan, 86],\n",
    "                   'SIZE':  ['S', 'XL', \"S\", 'XL', 'M', 'M', 'M', 'M', 'M', 'XL'],\n",
    "                   'COLOR': ['BL', 'RD', 'Y', 'GR', 'GR', 'RD', 'BL', 'Y', 'BL', 'GR'],\n",
    "                   'class': ['A', 'C', 'B', 'B', 'C', 'A', 'A', 'A', 'C', 'C']},\n",
    "                 columns=['DATE', 'NECK', 'BODY', 'SIZE', 'COLOR', 'class'])\n",
    "df"
   ]
  },
  {
   "cell_type": "markdown",
   "metadata": {},
   "source": [
    "### 1)\n",
    "NECKに欠損があるサンプルのみ削除してください。"
   ]
  },
  {
   "cell_type": "code",
   "execution_count": 15,
   "metadata": {},
   "outputs": [
    {
     "data": {
      "text/html": [
       "<div>\n",
       "<style scoped>\n",
       "    .dataframe tbody tr th:only-of-type {\n",
       "        vertical-align: middle;\n",
       "    }\n",
       "\n",
       "    .dataframe tbody tr th {\n",
       "        vertical-align: top;\n",
       "    }\n",
       "\n",
       "    .dataframe thead th {\n",
       "        text-align: right;\n",
       "    }\n",
       "</style>\n",
       "<table border=\"1\" class=\"dataframe\">\n",
       "  <thead>\n",
       "    <tr style=\"text-align: right;\">\n",
       "      <th></th>\n",
       "      <th>DATE</th>\n",
       "      <th>NECK</th>\n",
       "      <th>BODY</th>\n",
       "      <th>SIZE</th>\n",
       "      <th>COLOR</th>\n",
       "      <th>class</th>\n",
       "    </tr>\n",
       "  </thead>\n",
       "  <tbody>\n",
       "    <tr>\n",
       "      <th>0</th>\n",
       "      <td>20170801</td>\n",
       "      <td>41.0</td>\n",
       "      <td>84.0</td>\n",
       "      <td>S</td>\n",
       "      <td>BL</td>\n",
       "      <td>A</td>\n",
       "    </tr>\n",
       "    <tr>\n",
       "      <th>2</th>\n",
       "      <td>20170802</td>\n",
       "      <td>38.0</td>\n",
       "      <td>69.0</td>\n",
       "      <td>S</td>\n",
       "      <td>Y</td>\n",
       "      <td>B</td>\n",
       "    </tr>\n",
       "    <tr>\n",
       "      <th>3</th>\n",
       "      <td>20170802</td>\n",
       "      <td>46.0</td>\n",
       "      <td>90.0</td>\n",
       "      <td>XL</td>\n",
       "      <td>GR</td>\n",
       "      <td>B</td>\n",
       "    </tr>\n",
       "    <tr>\n",
       "      <th>5</th>\n",
       "      <td>20170803</td>\n",
       "      <td>49.0</td>\n",
       "      <td>64.0</td>\n",
       "      <td>M</td>\n",
       "      <td>RD</td>\n",
       "      <td>A</td>\n",
       "    </tr>\n",
       "    <tr>\n",
       "      <th>9</th>\n",
       "      <td>20170805</td>\n",
       "      <td>42.0</td>\n",
       "      <td>86.0</td>\n",
       "      <td>XL</td>\n",
       "      <td>GR</td>\n",
       "      <td>C</td>\n",
       "    </tr>\n",
       "  </tbody>\n",
       "</table>\n",
       "</div>"
      ],
      "text/plain": [
       "       DATE  NECK  BODY SIZE COLOR class\n",
       "0  20170801  41.0  84.0    S    BL     A\n",
       "2  20170802  38.0  69.0    S     Y     B\n",
       "3  20170802  46.0  90.0   XL    GR     B\n",
       "5  20170803  49.0  64.0    M    RD     A\n",
       "9  20170805  42.0  86.0   XL    GR     C"
      ]
     },
     "execution_count": 15,
     "metadata": {},
     "output_type": "execute_result"
    }
   ],
   "source": [
    "df.dropna(subset=['NECK'])"
   ]
  },
  {
   "cell_type": "markdown",
   "metadata": {},
   "source": [
    "### 2)\n",
    "シャツのサイズと整数を対応させる辞書を作成し、それをもとにマッピングを実行してください。"
   ]
  },
  {
   "cell_type": "code",
   "execution_count": 16,
   "metadata": {},
   "outputs": [
    {
     "data": {
      "text/html": [
       "<div>\n",
       "<style scoped>\n",
       "    .dataframe tbody tr th:only-of-type {\n",
       "        vertical-align: middle;\n",
       "    }\n",
       "\n",
       "    .dataframe tbody tr th {\n",
       "        vertical-align: top;\n",
       "    }\n",
       "\n",
       "    .dataframe thead th {\n",
       "        text-align: right;\n",
       "    }\n",
       "</style>\n",
       "<table border=\"1\" class=\"dataframe\">\n",
       "  <thead>\n",
       "    <tr style=\"text-align: right;\">\n",
       "      <th></th>\n",
       "      <th>DATE</th>\n",
       "      <th>NECK</th>\n",
       "      <th>BODY</th>\n",
       "      <th>SIZE</th>\n",
       "      <th>COLOR</th>\n",
       "      <th>class</th>\n",
       "    </tr>\n",
       "  </thead>\n",
       "  <tbody>\n",
       "    <tr>\n",
       "      <th>0</th>\n",
       "      <td>20170801</td>\n",
       "      <td>41.0</td>\n",
       "      <td>84.0</td>\n",
       "      <td>1</td>\n",
       "      <td>BL</td>\n",
       "      <td>A</td>\n",
       "    </tr>\n",
       "    <tr>\n",
       "      <th>1</th>\n",
       "      <td>20170801</td>\n",
       "      <td>NaN</td>\n",
       "      <td>92.0</td>\n",
       "      <td>4</td>\n",
       "      <td>RD</td>\n",
       "      <td>C</td>\n",
       "    </tr>\n",
       "    <tr>\n",
       "      <th>2</th>\n",
       "      <td>20170802</td>\n",
       "      <td>38.0</td>\n",
       "      <td>69.0</td>\n",
       "      <td>1</td>\n",
       "      <td>Y</td>\n",
       "      <td>B</td>\n",
       "    </tr>\n",
       "    <tr>\n",
       "      <th>3</th>\n",
       "      <td>20170802</td>\n",
       "      <td>46.0</td>\n",
       "      <td>90.0</td>\n",
       "      <td>4</td>\n",
       "      <td>GR</td>\n",
       "      <td>B</td>\n",
       "    </tr>\n",
       "    <tr>\n",
       "      <th>4</th>\n",
       "      <td>20170803</td>\n",
       "      <td>NaN</td>\n",
       "      <td>NaN</td>\n",
       "      <td>2</td>\n",
       "      <td>GR</td>\n",
       "      <td>C</td>\n",
       "    </tr>\n",
       "    <tr>\n",
       "      <th>5</th>\n",
       "      <td>20170803</td>\n",
       "      <td>49.0</td>\n",
       "      <td>64.0</td>\n",
       "      <td>2</td>\n",
       "      <td>RD</td>\n",
       "      <td>A</td>\n",
       "    </tr>\n",
       "    <tr>\n",
       "      <th>6</th>\n",
       "      <td>20170803</td>\n",
       "      <td>NaN</td>\n",
       "      <td>NaN</td>\n",
       "      <td>2</td>\n",
       "      <td>BL</td>\n",
       "      <td>A</td>\n",
       "    </tr>\n",
       "    <tr>\n",
       "      <th>7</th>\n",
       "      <td>20170805</td>\n",
       "      <td>NaN</td>\n",
       "      <td>74.0</td>\n",
       "      <td>2</td>\n",
       "      <td>Y</td>\n",
       "      <td>A</td>\n",
       "    </tr>\n",
       "    <tr>\n",
       "      <th>8</th>\n",
       "      <td>20170805</td>\n",
       "      <td>NaN</td>\n",
       "      <td>NaN</td>\n",
       "      <td>2</td>\n",
       "      <td>BL</td>\n",
       "      <td>C</td>\n",
       "    </tr>\n",
       "    <tr>\n",
       "      <th>9</th>\n",
       "      <td>20170805</td>\n",
       "      <td>42.0</td>\n",
       "      <td>86.0</td>\n",
       "      <td>4</td>\n",
       "      <td>GR</td>\n",
       "      <td>C</td>\n",
       "    </tr>\n",
       "  </tbody>\n",
       "</table>\n",
       "</div>"
      ],
      "text/plain": [
       "       DATE  NECK  BODY  SIZE COLOR class\n",
       "0  20170801  41.0  84.0     1    BL     A\n",
       "1  20170801   NaN  92.0     4    RD     C\n",
       "2  20170802  38.0  69.0     1     Y     B\n",
       "3  20170802  46.0  90.0     4    GR     B\n",
       "4  20170803   NaN   NaN     2    GR     C\n",
       "5  20170803  49.0  64.0     2    RD     A\n",
       "6  20170803   NaN   NaN     2    BL     A\n",
       "7  20170805   NaN  74.0     2     Y     A\n",
       "8  20170805   NaN   NaN     2    BL     C\n",
       "9  20170805  42.0  86.0     4    GR     C"
      ]
     },
     "execution_count": 16,
     "metadata": {},
     "output_type": "execute_result"
    }
   ],
   "source": [
    "size_mapping = {'S':1, 'M':2, 'L':3, 'XL':4}\n",
    "df['SIZE'] = df['SIZE'].map(size_mapping)\n",
    "df"
   ]
  }
 ],
 "metadata": {
  "kernelspec": {
   "display_name": "Python 3",
   "language": "python",
   "name": "python3"
  },
  "language_info": {
   "codemirror_mode": {
    "name": "ipython",
    "version": 3
   },
   "file_extension": ".py",
   "mimetype": "text/x-python",
   "name": "python",
   "nbconvert_exporter": "python",
   "pygments_lexer": "ipython3",
   "version": "3.6.4"
  }
 },
 "nbformat": 4,
 "nbformat_minor": 2
}
