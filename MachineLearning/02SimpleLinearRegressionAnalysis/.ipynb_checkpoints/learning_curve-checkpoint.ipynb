{
 "cells": [
  {
   "cell_type": "code",
   "execution_count": 58,
   "metadata": {
    "collapsed": true
   },
   "outputs": [],
   "source": [
    "#データの読み込み\n",
    "import pandas as pd\n",
    "df = pd.read_excel('a.xlsx')"
   ]
  },
  {
   "cell_type": "code",
   "execution_count": 59,
   "metadata": {},
   "outputs": [
    {
     "name": "stdout",
     "output_type": "stream",
     "text": [
      "(100, 1)\n"
     ]
    }
   ],
   "source": [
    "import numpy as np\n",
    "X = np.array(df.loc[:, ['MAX_TEMP']])\n",
    "print(X.shape) #Xのサイズ確認"
   ]
  },
  {
   "cell_type": "code",
   "execution_count": 60,
   "metadata": {},
   "outputs": [
    {
     "name": "stdout",
     "output_type": "stream",
     "text": [
      "(100, 1)\n"
     ]
    }
   ],
   "source": [
    "y = np.array(df.loc[:, ['N_COFFEE']])\n",
    "print(y.shape)"
   ]
  },
  {
   "cell_type": "code",
   "execution_count": 61,
   "metadata": {
    "collapsed": true
   },
   "outputs": [],
   "source": [
    "from sklearn.linear_model import LinearRegression\n",
    "#線形回帰インスタンス作成\n",
    "lr = LinearRegression()"
   ]
  },
  {
   "cell_type": "code",
   "execution_count": 62,
   "metadata": {
    "collapsed": true
   },
   "outputs": [],
   "source": [
    "from sklearn.model_selection import learning_curve\n",
    "#lcインスタンス作成\n",
    "lc= learning_curve(lr, X, y)"
   ]
  },
  {
   "cell_type": "code",
   "execution_count": 63,
   "metadata": {},
   "outputs": [
    {
     "data": {
      "text/plain": [
       "(array([ 6, 21, 36, 51, 66]), array([[ 0.8916582 ,  0.62683215,  0.62683215],\n",
       "        [ 0.86326195,  0.73533961,  0.73533961],\n",
       "        [ 0.76660367,  0.76860253,  0.7883533 ],\n",
       "        [ 0.79637215,  0.78490445,  0.82312932],\n",
       "        [ 0.78704458,  0.77157147,  0.80271379]]), array([[ 0.71830963,  0.72872151,  0.70134126],\n",
       "        [ 0.72808781,  0.71212696,  0.66979892],\n",
       "        [ 0.76165365,  0.74449869,  0.71104835],\n",
       "        [ 0.74808097,  0.78865274,  0.72973777],\n",
       "        [ 0.75428087,  0.78755279,  0.73644298]]))"
      ]
     },
     "execution_count": 63,
     "metadata": {},
     "output_type": "execute_result"
    }
   ],
   "source": [
    "lc"
   ]
  },
  {
   "cell_type": "code",
   "execution_count": 64,
   "metadata": {
    "collapsed": true
   },
   "outputs": [],
   "source": [
    "#Numbers of training examples that has been used to generate the learning curve\n",
    "#どれだけのトレーニングサンプルを用いたか。より厳密には交差検証法(性能評価とチューニング参照)\n",
    "train_sizes=lc[0]"
   ]
  },
  {
   "cell_type": "code",
   "execution_count": 65,
   "metadata": {
    "collapsed": true
   },
   "outputs": [],
   "source": [
    "#トレーニングデータのスコアとテストデータのスコア\n",
    "train_scores=lc[1]\n",
    "test_scores=lc[2]"
   ]
  },
  {
   "cell_type": "code",
   "execution_count": 66,
   "metadata": {
    "collapsed": true
   },
   "outputs": [],
   "source": [
    "import matplotlib.pyplot as plt\n",
    "% matplotlib inline"
   ]
  },
  {
   "cell_type": "code",
   "execution_count": 71,
   "metadata": {},
   "outputs": [
    {
     "data": {
      "image/png": "[encoded data removed]",
      "text/plain": [
       "<matplotlib.figure.Figure at 0x1a15c91470>"
      ]
     },
     "metadata": {},
     "output_type": "display_data"
    }
   ],
   "source": [
    "plt.figure(figsize=(9,5))\n",
    "plt.plot(train_sizes, np.mean(train_scores,axis=1),'o-',color='y',label=\"Training score\")\n",
    "plt.plot(train_sizes, np.mean(test_scores,axis=1),'o-',color='r',label=\"Cross-validation score\")\n",
    "plt.xticks(np.arange(0,100,10))                \n",
    "plt.yticks(np.arange(0.6,1.0,0.1)) \n",
    "plt.xlabel('train_sizes')                                       # x軸のラベルを表示\n",
    "plt.ylabel('scores')   \n",
    "plt.legend(loc='upper right')\n",
    "plt.show()"
   ]
  },
  {
   "cell_type": "code",
   "execution_count": null,
   "metadata": {
    "collapsed": true
   },
   "outputs": [],
   "source": []
  }
 ],
 "metadata": {
  "kernelspec": {
   "display_name": "Python 3",
   "language": "python",
   "name": "python3"
  },
  "language_info": {
   "codemirror_mode": {
    "name": "ipython",
    "version": 3
   },
   "file_extension": ".py",
   "mimetype": "text/x-python",
   "name": "python",
   "nbconvert_exporter": "python",
   "pygments_lexer": "ipython3",
   "version": "3.6.4"
  }
 },
 "nbformat": 4,
 "nbformat_minor": 2
}
